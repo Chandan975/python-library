{
  "nbformat": 4,
  "nbformat_minor": 0,
  "metadata": {
    "colab": {
      "name": "Pandas datetime .ipynb",
      "provenance": [],
      "collapsed_sections": [],
      "include_colab_link": true
    },
    "kernelspec": {
      "name": "python3",
      "display_name": "Python 3"
    },
    "language_info": {
      "name": "python"
    }
  },
  "cells": [
    {
      "cell_type": "markdown",
      "metadata": {
        "id": "view-in-github",
        "colab_type": "text"
      },
      "source": [
        "<a href=\"https://colab.research.google.com/github/Chandan975/python-library/blob/main/Pandas_datetime_.ipynb\" target=\"_parent\"><img src=\"https://colab.research.google.com/assets/colab-badge.svg\" alt=\"Open In Colab\"/></a>"
      ]
    },
    {
      "cell_type": "code",
      "execution_count": null,
      "metadata": {
        "id": "-r12BfJDznKL"
      },
      "outputs": [],
      "source": [
        "# import necessary Python packages\n",
        "import pandas as pd\n",
        "import datetime as dt\n",
        "import numpy as np"
      ]
    },
    {
      "cell_type": "markdown",
      "source": [
        "# **Different ways to create Timestamp**"
      ],
      "metadata": {
        "id": "3K9x7lWMAAjo"
      }
    },
    {
      "cell_type": "code",
      "source": [
        "# 1.\n",
        "pd.Timestamp(dt.datetime(2014, 5, 1))\n"
      ],
      "metadata": {
        "colab": {
          "base_uri": "https://localhost:8080/"
        },
        "id": "wbqmX6_F_zEa",
        "outputId": "7a3336f0-940b-45d2-93ab-7ec9d2866920"
      },
      "execution_count": null,
      "outputs": [
        {
          "output_type": "execute_result",
          "data": {
            "text/plain": [
              "Timestamp('2014-05-01 00:00:00')"
            ]
          },
          "metadata": {},
          "execution_count": 2
        }
      ]
    },
    {
      "cell_type": "code",
      "source": [
        "# 2\n",
        "pd.Timestamp('2014-06-01')\n"
      ],
      "metadata": {
        "colab": {
          "base_uri": "https://localhost:8080/"
        },
        "id": "1qwdiCbrANNs",
        "outputId": "45ed6bbd-99d6-4462-db94-5a9d9780d785"
      },
      "execution_count": null,
      "outputs": [
        {
          "output_type": "execute_result",
          "data": {
            "text/plain": [
              "Timestamp('2014-06-01 00:00:00')"
            ]
          },
          "metadata": {},
          "execution_count": 3
        }
      ]
    },
    {
      "cell_type": "code",
      "source": [
        "# 3\n",
        "pd.Timestamp(2014, 6, 1)"
      ],
      "metadata": {
        "colab": {
          "base_uri": "https://localhost:8080/"
        },
        "id": "yWy5KmV9APRE",
        "outputId": "c465b2f2-aed8-440e-cbe8-73e8c7c40933"
      },
      "execution_count": null,
      "outputs": [
        {
          "output_type": "execute_result",
          "data": {
            "text/plain": [
              "Timestamp('2014-06-01 00:00:00')"
            ]
          },
          "metadata": {},
          "execution_count": 4
        }
      ]
    },
    {
      "cell_type": "markdown",
      "source": [
        "# **Create Period**"
      ],
      "metadata": {
        "id": "BFL_AppUBL-0"
      }
    },
    {
      "cell_type": "code",
      "source": [
        "pd.Period('2014-06')"
      ],
      "metadata": {
        "colab": {
          "base_uri": "https://localhost:8080/"
        },
        "id": "oWjry-UkBUSf",
        "outputId": "0573105e-93fd-4040-9f51-d0886ca2b45b"
      },
      "execution_count": null,
      "outputs": [
        {
          "output_type": "execute_result",
          "data": {
            "text/plain": [
              "Period('2014-06', 'M')"
            ]
          },
          "metadata": {},
          "execution_count": 5
        }
      ]
    },
    {
      "cell_type": "code",
      "source": [
        "help(pd.Period())"
      ],
      "metadata": {
        "colab": {
          "base_uri": "https://localhost:8080/"
        },
        "id": "cuN1hKDgRhxY",
        "outputId": "f3b0017b-77dc-4bc3-c37c-5667ad8d1143"
      },
      "execution_count": null,
      "outputs": [
        {
          "output_type": "stream",
          "name": "stdout",
          "text": [
            "Help on NaTType in module pandas._libs.tslibs.nattype object:\n",
            "\n",
            "class NaTType(_NaT)\n",
            " |  (N)ot-(A)-(T)ime, the time equivalent of NaN.\n",
            " |  \n",
            " |  Method resolution order:\n",
            " |      NaTType\n",
            " |      _NaT\n",
            " |      datetime.datetime\n",
            " |      datetime.date\n",
            " |      builtins.object\n",
            " |  \n",
            " |  Methods defined here:\n",
            " |  \n",
            " |  __new__(cls)\n",
            " |  \n",
            " |  __rdiv__(self, other)\n",
            " |  \n",
            " |  __reduce__(self)\n",
            " |  \n",
            " |  __reduce_ex__(self, protocol)\n",
            " |  \n",
            " |  __rfloordiv__(self, other)\n",
            " |  \n",
            " |  __rmul__(self, other)\n",
            " |  \n",
            " |  __rtruediv__(self, other)\n",
            " |  \n",
            " |  astimezone(*args, **kwargs)\n",
            " |      Convert tz-aware Timestamp to another time zone.\n",
            " |      \n",
            " |      Parameters\n",
            " |      ----------\n",
            " |      tz : str, pytz.timezone, dateutil.tz.tzfile or None\n",
            " |          Time zone for time which Timestamp will be converted to.\n",
            " |          None will remove timezone holding UTC time.\n",
            " |      \n",
            " |      Returns\n",
            " |      -------\n",
            " |      converted : Timestamp\n",
            " |      \n",
            " |      Raises\n",
            " |      ------\n",
            " |      TypeError\n",
            " |          If Timestamp is tz-naive.\n",
            " |      \n",
            " |      Examples\n",
            " |      --------\n",
            " |      Create a timestamp object with UTC timezone:\n",
            " |      \n",
            " |      >>> ts = pd.Timestamp('2020-03-14T15:32:52.192548651', tz='UTC')\n",
            " |      >>> ts\n",
            " |      Timestamp('2020-03-14 15:32:52.192548651+0000', tz='UTC')\n",
            " |      \n",
            " |      Change to Tokyo timezone:\n",
            " |      \n",
            " |      >>> ts.tz_convert(tz='Asia/Tokyo')\n",
            " |      Timestamp('2020-03-15 00:32:52.192548651+0900', tz='Asia/Tokyo')\n",
            " |      \n",
            " |      Can also use ``astimezone``:\n",
            " |      \n",
            " |      >>> ts.astimezone(tz='Asia/Tokyo')\n",
            " |      Timestamp('2020-03-15 00:32:52.192548651+0900', tz='Asia/Tokyo')\n",
            " |      \n",
            " |      Analogous for ``pd.NaT``:\n",
            " |      \n",
            " |      >>> pd.NaT.tz_convert(tz='Asia/Tokyo')\n",
            " |      NaT\n",
            " |  \n",
            " |  ceil(*args, **kwargs)\n",
            " |      Return a new Timestamp ceiled to this resolution.\n",
            " |      \n",
            " |      Parameters\n",
            " |      ----------\n",
            " |      freq : str\n",
            " |          Frequency string indicating the ceiling resolution.\n",
            " |      ambiguous : bool or {'raise', 'NaT'}, default 'raise'\n",
            " |          The behavior is as follows:\n",
            " |      \n",
            " |          * bool contains flags to determine if time is dst or not (note\n",
            " |            that this flag is only applicable for ambiguous fall dst dates).\n",
            " |          * 'NaT' will return NaT for an ambiguous time.\n",
            " |          * 'raise' will raise an AmbiguousTimeError for an ambiguous time.\n",
            " |      \n",
            " |      nonexistent : {'raise', 'shift_forward', 'shift_backward, 'NaT', timedelta}, default 'raise'\n",
            " |          A nonexistent time does not exist in a particular timezone\n",
            " |          where clocks moved forward due to DST.\n",
            " |      \n",
            " |          * 'shift_forward' will shift the nonexistent time forward to the\n",
            " |            closest existing time.\n",
            " |          * 'shift_backward' will shift the nonexistent time backward to the\n",
            " |            closest existing time.\n",
            " |          * 'NaT' will return NaT where there are nonexistent times.\n",
            " |          * timedelta objects will shift nonexistent times by the timedelta.\n",
            " |          * 'raise' will raise an NonExistentTimeError if there are\n",
            " |            nonexistent times.\n",
            " |      \n",
            " |      Raises\n",
            " |      ------\n",
            " |      ValueError if the freq cannot be converted.\n",
            " |      \n",
            " |      Examples\n",
            " |      --------\n",
            " |      Create a timestamp object:\n",
            " |      \n",
            " |      >>> ts = pd.Timestamp('2020-03-14T15:32:52.192548651')\n",
            " |      \n",
            " |      A timestamp can be ceiled using multiple frequency units:\n",
            " |      \n",
            " |      >>> ts.ceil(freq='H') # hour\n",
            " |      Timestamp('2020-03-14 16:00:00')\n",
            " |      \n",
            " |      >>> ts.ceil(freq='T') # minute\n",
            " |      Timestamp('2020-03-14 15:33:00')\n",
            " |      \n",
            " |      >>> ts.ceil(freq='S') # seconds\n",
            " |      Timestamp('2020-03-14 15:32:53')\n",
            " |      \n",
            " |      >>> ts.ceil(freq='U') # microseconds\n",
            " |      Timestamp('2020-03-14 15:32:52.192549')\n",
            " |      \n",
            " |      ``freq`` can also be a multiple of a single unit, like '5T' (i.e.  5 minutes):\n",
            " |      \n",
            " |      >>> ts.ceil(freq='5T')\n",
            " |      Timestamp('2020-03-14 15:35:00')\n",
            " |      \n",
            " |      or a combination of multiple units, like '1H30T' (i.e. 1 hour and 30 minutes):\n",
            " |      \n",
            " |      >>> ts.ceil(freq='1H30T')\n",
            " |      Timestamp('2020-03-14 16:30:00')\n",
            " |      \n",
            " |      Analogous for ``pd.NaT``:\n",
            " |      \n",
            " |      >>> pd.NaT.ceil()\n",
            " |      NaT\n",
            " |  \n",
            " |  combine(*args, **kwargs)\n",
            " |      Timestamp.combine(date, time)\n",
            " |      \n",
            " |      Combine date, time into datetime with same date and time fields.\n",
            " |      \n",
            " |      Examples\n",
            " |      --------\n",
            " |      >>> from datetime import date, time\n",
            " |      >>> pd.Timestamp.combine(date(2020, 3, 14), time(15, 30, 15))\n",
            " |      Timestamp('2020-03-14 15:30:15')\n",
            " |  \n",
            " |  ctime(*args, **kwargs)\n",
            " |      Return ctime() style string.\n",
            " |  \n",
            " |  date(*args, **kwargs)\n",
            " |      Return date object with same year, month and day.\n",
            " |  \n",
            " |  day_name(*args, **kwargs)\n",
            " |      Return the day name of the Timestamp with specified locale.\n",
            " |      \n",
            " |      Parameters\n",
            " |      ----------\n",
            " |      locale : str, default None (English locale)\n",
            " |          Locale determining the language in which to return the day name.\n",
            " |      \n",
            " |      Returns\n",
            " |      -------\n",
            " |      str\n",
            " |      \n",
            " |      Examples\n",
            " |      --------\n",
            " |      >>> ts = pd.Timestamp('2020-03-14T15:32:52.192548651')\n",
            " |      >>> ts.day_name()\n",
            " |      'Saturday'\n",
            " |      \n",
            " |      Analogous for ``pd.NaT``:\n",
            " |      \n",
            " |      >>> pd.NaT.day_name()\n",
            " |      nan\n",
            " |  \n",
            " |  dst(*args, **kwargs)\n",
            " |      Return self.tzinfo.dst(self).\n",
            " |  \n",
            " |  floor(*args, **kwargs)\n",
            " |      Return a new Timestamp floored to this resolution.\n",
            " |      \n",
            " |      Parameters\n",
            " |      ----------\n",
            " |      freq : str\n",
            " |          Frequency string indicating the flooring resolution.\n",
            " |      ambiguous : bool or {'raise', 'NaT'}, default 'raise'\n",
            " |          The behavior is as follows:\n",
            " |      \n",
            " |          * bool contains flags to determine if time is dst or not (note\n",
            " |            that this flag is only applicable for ambiguous fall dst dates).\n",
            " |          * 'NaT' will return NaT for an ambiguous time.\n",
            " |          * 'raise' will raise an AmbiguousTimeError for an ambiguous time.\n",
            " |      \n",
            " |      nonexistent : {'raise', 'shift_forward', 'shift_backward, 'NaT', timedelta}, default 'raise'\n",
            " |          A nonexistent time does not exist in a particular timezone\n",
            " |          where clocks moved forward due to DST.\n",
            " |      \n",
            " |          * 'shift_forward' will shift the nonexistent time forward to the\n",
            " |            closest existing time.\n",
            " |          * 'shift_backward' will shift the nonexistent time backward to the\n",
            " |            closest existing time.\n",
            " |          * 'NaT' will return NaT where there are nonexistent times.\n",
            " |          * timedelta objects will shift nonexistent times by the timedelta.\n",
            " |          * 'raise' will raise an NonExistentTimeError if there are\n",
            " |            nonexistent times.\n",
            " |      \n",
            " |      Raises\n",
            " |      ------\n",
            " |      ValueError if the freq cannot be converted.\n",
            " |      \n",
            " |      Examples\n",
            " |      --------\n",
            " |      Create a timestamp object:\n",
            " |      \n",
            " |      >>> ts = pd.Timestamp('2020-03-14T15:32:52.192548651')\n",
            " |      \n",
            " |      A timestamp can be floored using multiple frequency units:\n",
            " |      \n",
            " |      >>> ts.floor(freq='H') # hour\n",
            " |      Timestamp('2020-03-14 15:00:00')\n",
            " |      \n",
            " |      >>> ts.floor(freq='T') # minute\n",
            " |      Timestamp('2020-03-14 15:32:00')\n",
            " |      \n",
            " |      >>> ts.floor(freq='S') # seconds\n",
            " |      Timestamp('2020-03-14 15:32:52')\n",
            " |      \n",
            " |      >>> ts.floor(freq='N') # nanoseconds\n",
            " |      Timestamp('2020-03-14 15:32:52.192548651')\n",
            " |      \n",
            " |      ``freq`` can also be a multiple of a single unit, like '5T' (i.e.  5 minutes):\n",
            " |      \n",
            " |      >>> ts.floor(freq='5T')\n",
            " |      Timestamp('2020-03-14 15:30:00')\n",
            " |      \n",
            " |      or a combination of multiple units, like '1H30T' (i.e. 1 hour and 30 minutes):\n",
            " |      \n",
            " |      >>> ts.floor(freq='1H30T')\n",
            " |      Timestamp('2020-03-14 15:00:00')\n",
            " |      \n",
            " |      Analogous for ``pd.NaT``:\n",
            " |      \n",
            " |      >>> pd.NaT.floor()\n",
            " |      NaT\n",
            " |  \n",
            " |  fromordinal(*args, **kwargs)\n",
            " |      Timestamp.fromordinal(ordinal, freq=None, tz=None)\n",
            " |      \n",
            " |      Passed an ordinal, translate and convert to a ts.\n",
            " |      Note: by definition there cannot be any tz info on the ordinal itself.\n",
            " |      \n",
            " |      Parameters\n",
            " |      ----------\n",
            " |      ordinal : int\n",
            " |          Date corresponding to a proleptic Gregorian ordinal.\n",
            " |      freq : str, DateOffset\n",
            " |          Offset to apply to the Timestamp.\n",
            " |      tz : str, pytz.timezone, dateutil.tz.tzfile or None\n",
            " |          Time zone for the Timestamp.\n",
            " |      \n",
            " |      Examples\n",
            " |      --------\n",
            " |      >>> pd.Timestamp.fromordinal(737425)\n",
            " |      Timestamp('2020-01-01 00:00:00')\n",
            " |  \n",
            " |  fromtimestamp(*args, **kwargs)\n",
            " |      Timestamp.fromtimestamp(ts)\n",
            " |      \n",
            " |      Transform timestamp[, tz] to tz's local time from POSIX timestamp.\n",
            " |      \n",
            " |      Examples\n",
            " |      --------\n",
            " |      >>> pd.Timestamp.utcfromtimestamp(1584199972)\n",
            " |      Timestamp('2020-03-14 15:32:52')\n",
            " |      \n",
            " |      Note that the output may change depending on your local time.\n",
            " |  \n",
            " |  isocalendar(*args, **kwargs)\n",
            " |      Return a 3-tuple containing ISO year, week number, and weekday.\n",
            " |  \n",
            " |  isoweekday(*args, **kwargs)\n",
            " |      Return the day of the week represented by the date.\n",
            " |      Monday == 1 ... Sunday == 7\n",
            " |  \n",
            " |  month_name(*args, **kwargs)\n",
            " |      Return the month name of the Timestamp with specified locale.\n",
            " |      \n",
            " |      Parameters\n",
            " |      ----------\n",
            " |      locale : str, default None (English locale)\n",
            " |          Locale determining the language in which to return the month name.\n",
            " |      \n",
            " |      Returns\n",
            " |      -------\n",
            " |      str\n",
            " |      \n",
            " |      Examples\n",
            " |      --------\n",
            " |      >>> ts = pd.Timestamp('2020-03-14T15:32:52.192548651')\n",
            " |      >>> ts.month_name()\n",
            " |      'March'\n",
            " |      \n",
            " |      Analogous for ``pd.NaT``:\n",
            " |      \n",
            " |      >>> pd.NaT.month_name()\n",
            " |      nan\n",
            " |  \n",
            " |  now(*args, **kwargs)\n",
            " |      Timestamp.now(tz=None)\n",
            " |      \n",
            " |      Return new Timestamp object representing current time local to\n",
            " |      tz.\n",
            " |      \n",
            " |      Parameters\n",
            " |      ----------\n",
            " |      tz : str or timezone object, default None\n",
            " |          Timezone to localize to.\n",
            " |      \n",
            " |      Examples\n",
            " |      --------\n",
            " |      >>> pd.Timestamp.now()\n",
            " |      Timestamp('2020-11-16 22:06:16.378782')\n",
            " |      \n",
            " |      Analogous for ``pd.NaT``:\n",
            " |      \n",
            " |      >>> pd.NaT.now()\n",
            " |      NaT\n",
            " |  \n",
            " |  replace(*args, **kwargs)\n",
            " |      Implements datetime.replace, handles nanoseconds.\n",
            " |      \n",
            " |      Parameters\n",
            " |      ----------\n",
            " |      year : int, optional\n",
            " |      month : int, optional\n",
            " |      day : int, optional\n",
            " |      hour : int, optional\n",
            " |      minute : int, optional\n",
            " |      second : int, optional\n",
            " |      microsecond : int, optional\n",
            " |      nanosecond : int, optional\n",
            " |      tzinfo : tz-convertible, optional\n",
            " |      fold : int, optional\n",
            " |      \n",
            " |      Returns\n",
            " |      -------\n",
            " |      Timestamp with fields replaced\n",
            " |      \n",
            " |      Examples\n",
            " |      --------\n",
            " |      Create a timestamp object:\n",
            " |      \n",
            " |      >>> ts = pd.Timestamp('2020-03-14T15:32:52.192548651', tz='UTC')\n",
            " |      >>> ts\n",
            " |      Timestamp('2020-03-14 15:32:52.192548651+0000', tz='UTC')\n",
            " |      \n",
            " |      Replace year and the hour:\n",
            " |      \n",
            " |      >>> ts.replace(year=1999, hour=10)\n",
            " |      Timestamp('1999-03-14 10:32:52.192548651+0000', tz='UTC')\n",
            " |      \n",
            " |      Replace timezone (not a conversion):\n",
            " |      \n",
            " |      >>> import pytz\n",
            " |      >>> ts.replace(tzinfo=pytz.timezone('US/Pacific'))\n",
            " |      Timestamp('2020-03-14 15:32:52.192548651-0700', tz='US/Pacific')\n",
            " |      \n",
            " |      Analogous for ``pd.NaT``:\n",
            " |      \n",
            " |      >>> pd.NaT.replace(tzinfo=pytz.timezone('US/Pacific'))\n",
            " |      NaT\n",
            " |  \n",
            " |  round(*args, **kwargs)\n",
            " |      Round the Timestamp to the specified resolution.\n",
            " |      \n",
            " |      Parameters\n",
            " |      ----------\n",
            " |      freq : str\n",
            " |          Frequency string indicating the rounding resolution.\n",
            " |      ambiguous : bool or {'raise', 'NaT'}, default 'raise'\n",
            " |          The behavior is as follows:\n",
            " |      \n",
            " |          * bool contains flags to determine if time is dst or not (note\n",
            " |            that this flag is only applicable for ambiguous fall dst dates).\n",
            " |          * 'NaT' will return NaT for an ambiguous time.\n",
            " |          * 'raise' will raise an AmbiguousTimeError for an ambiguous time.\n",
            " |      \n",
            " |      nonexistent : {'raise', 'shift_forward', 'shift_backward, 'NaT', timedelta}, default 'raise'\n",
            " |          A nonexistent time does not exist in a particular timezone\n",
            " |          where clocks moved forward due to DST.\n",
            " |      \n",
            " |          * 'shift_forward' will shift the nonexistent time forward to the\n",
            " |            closest existing time.\n",
            " |          * 'shift_backward' will shift the nonexistent time backward to the\n",
            " |            closest existing time.\n",
            " |          * 'NaT' will return NaT where there are nonexistent times.\n",
            " |          * timedelta objects will shift nonexistent times by the timedelta.\n",
            " |          * 'raise' will raise an NonExistentTimeError if there are\n",
            " |            nonexistent times.\n",
            " |      \n",
            " |      Returns\n",
            " |      -------\n",
            " |      a new Timestamp rounded to the given resolution of `freq`\n",
            " |      \n",
            " |      Raises\n",
            " |      ------\n",
            " |      ValueError if the freq cannot be converted\n",
            " |      \n",
            " |      Examples\n",
            " |      --------\n",
            " |      Create a timestamp object:\n",
            " |      \n",
            " |      >>> ts = pd.Timestamp('2020-03-14T15:32:52.192548651')\n",
            " |      \n",
            " |      A timestamp can be rounded using multiple frequency units:\n",
            " |      \n",
            " |      >>> ts.round(freq='H') # hour\n",
            " |      Timestamp('2020-03-14 16:00:00')\n",
            " |      \n",
            " |      >>> ts.round(freq='T') # minute\n",
            " |      Timestamp('2020-03-14 15:33:00')\n",
            " |      \n",
            " |      >>> ts.round(freq='S') # seconds\n",
            " |      Timestamp('2020-03-14 15:32:52')\n",
            " |      \n",
            " |      >>> ts.round(freq='L') # milliseconds\n",
            " |      Timestamp('2020-03-14 15:32:52.193000')\n",
            " |      \n",
            " |      ``freq`` can also be a multiple of a single unit, like '5T' (i.e.  5 minutes):\n",
            " |      \n",
            " |      >>> ts.round(freq='5T')\n",
            " |      Timestamp('2020-03-14 15:35:00')\n",
            " |      \n",
            " |      or a combination of multiple units, like '1H30T' (i.e. 1 hour and 30 minutes):\n",
            " |      \n",
            " |      >>> ts.round(freq='1H30T')\n",
            " |      Timestamp('2020-03-14 15:00:00')\n",
            " |      \n",
            " |      Analogous for ``pd.NaT``:\n",
            " |      \n",
            " |      >>> pd.NaT.round()\n",
            " |      NaT\n",
            " |  \n",
            " |  strftime(*args, **kwargs)\n",
            " |      Timestamp.strftime(format)\n",
            " |      \n",
            " |      Return a string representing the given POSIX timestamp\n",
            " |      controlled by an explicit format string.\n",
            " |      \n",
            " |      Parameters\n",
            " |      ----------\n",
            " |      format : str\n",
            " |          Format string to convert Timestamp to string.\n",
            " |          See strftime documentation for more information on the format string:\n",
            " |          https://docs.python.org/3/library/datetime.html#strftime-and-strptime-behavior.\n",
            " |      \n",
            " |      Examples\n",
            " |      --------\n",
            " |      >>> ts = pd.Timestamp('2020-03-14T15:32:52.192548651')\n",
            " |      >>> ts.strftime('%Y-%m-%d %X')\n",
            " |      '2020-03-14 15:32:52'\n",
            " |  \n",
            " |  strptime(*args, **kwargs)\n",
            " |      Timestamp.strptime(string, format)\n",
            " |      \n",
            " |      Function is not implemented. Use pd.to_datetime().\n",
            " |  \n",
            " |  time(*args, **kwargs)\n",
            " |      Return time object with same time but with tzinfo=None.\n",
            " |  \n",
            " |  timestamp(*args, **kwargs)\n",
            " |      Return POSIX timestamp as float.\n",
            " |      \n",
            " |      Examples\n",
            " |      --------\n",
            " |      >>> ts = pd.Timestamp('2020-03-14T15:32:52.192548')\n",
            " |      >>> ts.timestamp()\n",
            " |      1584199972.192548\n",
            " |  \n",
            " |  timetuple(*args, **kwargs)\n",
            " |      Return time tuple, compatible with time.localtime().\n",
            " |  \n",
            " |  timetz(*args, **kwargs)\n",
            " |      Return time object with same time and tzinfo.\n",
            " |  \n",
            " |  to_pydatetime(*args, **kwargs)\n",
            " |      Convert a Timestamp object to a native Python datetime object.\n",
            " |      \n",
            " |      If warn=True, issue a warning if nanoseconds is nonzero.\n",
            " |      \n",
            " |      Examples\n",
            " |      --------\n",
            " |      >>> ts = pd.Timestamp('2020-03-14T15:32:52.192548')\n",
            " |      >>> ts.to_pydatetime()\n",
            " |      datetime.datetime(2020, 3, 14, 15, 32, 52, 192548)\n",
            " |      \n",
            " |      Analogous for ``pd.NaT``:\n",
            " |      \n",
            " |      >>> pd.NaT.to_pydatetime()\n",
            " |      NaT\n",
            " |  \n",
            " |  today(*args, **kwargs)\n",
            " |      Timestamp.today(cls, tz=None)\n",
            " |      \n",
            " |      Return the current time in the local timezone.  This differs\n",
            " |      from datetime.today() in that it can be localized to a\n",
            " |      passed timezone.\n",
            " |      \n",
            " |      Parameters\n",
            " |      ----------\n",
            " |      tz : str or timezone object, default None\n",
            " |          Timezone to localize to.\n",
            " |      \n",
            " |      Examples\n",
            " |      --------\n",
            " |      >>> pd.Timestamp.today()\n",
            " |      Timestamp('2020-11-16 22:37:39.969883')\n",
            " |      \n",
            " |      Analogous for ``pd.NaT``:\n",
            " |      \n",
            " |      >>> pd.NaT.today()\n",
            " |      NaT\n",
            " |  \n",
            " |  toordinal(*args, **kwargs)\n",
            " |      Return proleptic Gregorian ordinal.  January 1 of year 1 is day 1.\n",
            " |  \n",
            " |  total_seconds(*args, **kwargs)\n",
            " |      Total seconds in the duration.\n",
            " |  \n",
            " |  tz_convert(*args, **kwargs)\n",
            " |      Convert tz-aware Timestamp to another time zone.\n",
            " |      \n",
            " |      Parameters\n",
            " |      ----------\n",
            " |      tz : str, pytz.timezone, dateutil.tz.tzfile or None\n",
            " |          Time zone for time which Timestamp will be converted to.\n",
            " |          None will remove timezone holding UTC time.\n",
            " |      \n",
            " |      Returns\n",
            " |      -------\n",
            " |      converted : Timestamp\n",
            " |      \n",
            " |      Raises\n",
            " |      ------\n",
            " |      TypeError\n",
            " |          If Timestamp is tz-naive.\n",
            " |      \n",
            " |      Examples\n",
            " |      --------\n",
            " |      Create a timestamp object with UTC timezone:\n",
            " |      \n",
            " |      >>> ts = pd.Timestamp('2020-03-14T15:32:52.192548651', tz='UTC')\n",
            " |      >>> ts\n",
            " |      Timestamp('2020-03-14 15:32:52.192548651+0000', tz='UTC')\n",
            " |      \n",
            " |      Change to Tokyo timezone:\n",
            " |      \n",
            " |      >>> ts.tz_convert(tz='Asia/Tokyo')\n",
            " |      Timestamp('2020-03-15 00:32:52.192548651+0900', tz='Asia/Tokyo')\n",
            " |      \n",
            " |      Can also use ``astimezone``:\n",
            " |      \n",
            " |      >>> ts.astimezone(tz='Asia/Tokyo')\n",
            " |      Timestamp('2020-03-15 00:32:52.192548651+0900', tz='Asia/Tokyo')\n",
            " |      \n",
            " |      Analogous for ``pd.NaT``:\n",
            " |      \n",
            " |      >>> pd.NaT.tz_convert(tz='Asia/Tokyo')\n",
            " |      NaT\n",
            " |  \n",
            " |  tz_localize(*args, **kwargs)\n",
            " |      Convert naive Timestamp to local time zone, or remove\n",
            " |      timezone from tz-aware Timestamp.\n",
            " |      \n",
            " |      Parameters\n",
            " |      ----------\n",
            " |      tz : str, pytz.timezone, dateutil.tz.tzfile or None\n",
            " |          Time zone for time which Timestamp will be converted to.\n",
            " |          None will remove timezone holding local time.\n",
            " |      \n",
            " |      ambiguous : bool, 'NaT', default 'raise'\n",
            " |          When clocks moved backward due to DST, ambiguous times may arise.\n",
            " |          For example in Central European Time (UTC+01), when going from\n",
            " |          03:00 DST to 02:00 non-DST, 02:30:00 local time occurs both at\n",
            " |          00:30:00 UTC and at 01:30:00 UTC. In such a situation, the\n",
            " |          `ambiguous` parameter dictates how ambiguous times should be\n",
            " |          handled.\n",
            " |      \n",
            " |          The behavior is as follows:\n",
            " |      \n",
            " |          * bool contains flags to determine if time is dst or not (note\n",
            " |            that this flag is only applicable for ambiguous fall dst dates).\n",
            " |          * 'NaT' will return NaT for an ambiguous time.\n",
            " |          * 'raise' will raise an AmbiguousTimeError for an ambiguous time.\n",
            " |      \n",
            " |      nonexistent : 'shift_forward', 'shift_backward, 'NaT', timedelta, default 'raise'\n",
            " |          A nonexistent time does not exist in a particular timezone\n",
            " |          where clocks moved forward due to DST.\n",
            " |      \n",
            " |          The behavior is as follows:\n",
            " |      \n",
            " |          * 'shift_forward' will shift the nonexistent time forward to the\n",
            " |            closest existing time.\n",
            " |          * 'shift_backward' will shift the nonexistent time backward to the\n",
            " |            closest existing time.\n",
            " |          * 'NaT' will return NaT where there are nonexistent times.\n",
            " |          * timedelta objects will shift nonexistent times by the timedelta.\n",
            " |          * 'raise' will raise an NonExistentTimeError if there are\n",
            " |            nonexistent times.\n",
            " |      \n",
            " |      Returns\n",
            " |      -------\n",
            " |      localized : Timestamp\n",
            " |      \n",
            " |      Raises\n",
            " |      ------\n",
            " |      TypeError\n",
            " |          If the Timestamp is tz-aware and tz is not None.\n",
            " |      \n",
            " |      Examples\n",
            " |      --------\n",
            " |      Create a naive timestamp object:\n",
            " |      \n",
            " |      >>> ts = pd.Timestamp('2020-03-14T15:32:52.192548651')\n",
            " |      >>> ts\n",
            " |      Timestamp('2020-03-14 15:32:52.192548651')\n",
            " |      \n",
            " |      Add 'Europe/Stockholm' as timezone:\n",
            " |      \n",
            " |      >>> ts.tz_localize(tz='Europe/Stockholm')\n",
            " |      Timestamp('2020-03-14 15:32:52.192548651+0100', tz='Europe/Stockholm')\n",
            " |      \n",
            " |      Analogous for ``pd.NaT``:\n",
            " |      \n",
            " |      >>> pd.NaT.tz_localize()\n",
            " |      NaT\n",
            " |  \n",
            " |  tzname(*args, **kwargs)\n",
            " |      Return self.tzinfo.tzname(self).\n",
            " |  \n",
            " |  utcfromtimestamp(*args, **kwargs)\n",
            " |      Timestamp.utcfromtimestamp(ts)\n",
            " |      \n",
            " |      Construct a naive UTC datetime from a POSIX timestamp.\n",
            " |      \n",
            " |      Examples\n",
            " |      --------\n",
            " |      >>> pd.Timestamp.fromtimestamp(1584199972)\n",
            " |      Timestamp('2020-03-14 15:32:52')\n",
            " |  \n",
            " |  utcnow(*args, **kwargs)\n",
            " |      Timestamp.utcnow()\n",
            " |      \n",
            " |      Return a new Timestamp representing UTC day and time.\n",
            " |      \n",
            " |      Examples\n",
            " |      --------\n",
            " |      >>> pd.Timestamp.utcnow()\n",
            " |      Timestamp('2020-11-16 22:50:18.092888+0000', tz='UTC')\n",
            " |  \n",
            " |  utcoffset(*args, **kwargs)\n",
            " |      Return self.tzinfo.utcoffset(self).\n",
            " |  \n",
            " |  utctimetuple(*args, **kwargs)\n",
            " |      Return UTC time tuple, compatible with time.localtime().\n",
            " |  \n",
            " |  weekday(*args, **kwargs)\n",
            " |      Return the day of the week represented by the date.\n",
            " |      Monday == 0 ... Sunday == 6\n",
            " |  \n",
            " |  ----------------------------------------------------------------------\n",
            " |  Data descriptors defined here:\n",
            " |  \n",
            " |  __dict__\n",
            " |      dictionary for instance variables (if defined)\n",
            " |  \n",
            " |  __weakref__\n",
            " |      list of weak references to the object (if defined)\n",
            " |  \n",
            " |  day\n",
            " |  \n",
            " |  day_of_week\n",
            " |  \n",
            " |  day_of_year\n",
            " |  \n",
            " |  dayofweek\n",
            " |  \n",
            " |  dayofyear\n",
            " |  \n",
            " |  days\n",
            " |  \n",
            " |  days_in_month\n",
            " |  \n",
            " |  daysinmonth\n",
            " |  \n",
            " |  hour\n",
            " |  \n",
            " |  microsecond\n",
            " |  \n",
            " |  microseconds\n",
            " |  \n",
            " |  millisecond\n",
            " |  \n",
            " |  minute\n",
            " |  \n",
            " |  month\n",
            " |  \n",
            " |  nanosecond\n",
            " |  \n",
            " |  nanoseconds\n",
            " |  \n",
            " |  quarter\n",
            " |  \n",
            " |  qyear\n",
            " |  \n",
            " |  second\n",
            " |  \n",
            " |  seconds\n",
            " |  \n",
            " |  week\n",
            " |  \n",
            " |  weekofyear\n",
            " |  \n",
            " |  year\n",
            " |  \n",
            " |  ----------------------------------------------------------------------\n",
            " |  Methods inherited from _NaT:\n",
            " |  \n",
            " |  __add__(self, value, /)\n",
            " |      Return self+value.\n",
            " |  \n",
            " |  __eq__(self, value, /)\n",
            " |      Return self==value.\n",
            " |  \n",
            " |  __floordiv__(self, value, /)\n",
            " |      Return self//value.\n",
            " |  \n",
            " |  __ge__(self, value, /)\n",
            " |      Return self>=value.\n",
            " |  \n",
            " |  __gt__(self, value, /)\n",
            " |      Return self>value.\n",
            " |  \n",
            " |  __hash__(self, /)\n",
            " |      Return hash(self).\n",
            " |  \n",
            " |  __le__(self, value, /)\n",
            " |      Return self<=value.\n",
            " |  \n",
            " |  __lt__(self, value, /)\n",
            " |      Return self<value.\n",
            " |  \n",
            " |  __mul__(self, value, /)\n",
            " |      Return self*value.\n",
            " |  \n",
            " |  __ne__(self, value, /)\n",
            " |      Return self!=value.\n",
            " |  \n",
            " |  __neg__(self, /)\n",
            " |      -self\n",
            " |  \n",
            " |  __pos__(self, /)\n",
            " |      +self\n",
            " |  \n",
            " |  __radd__(self, value, /)\n",
            " |      Return value+self.\n",
            " |  \n",
            " |  __reduce_cython__(...)\n",
            " |  \n",
            " |  __repr__(self, /)\n",
            " |      Return repr(self).\n",
            " |  \n",
            " |  __rsub__(self, value, /)\n",
            " |      Return value-self.\n",
            " |  \n",
            " |  __setstate_cython__(...)\n",
            " |  \n",
            " |  __str__(self, /)\n",
            " |      Return str(self).\n",
            " |  \n",
            " |  __sub__(self, value, /)\n",
            " |      Return self-value.\n",
            " |  \n",
            " |  __truediv__(self, value, /)\n",
            " |      Return self/value.\n",
            " |  \n",
            " |  isoformat(...)\n",
            " |      [sep] -> string in ISO 8601 format, YYYY-MM-DDT[HH[:MM[:SS[.mmm[uuu]]]]][+HH:MM].\n",
            " |      sep is used to separate the year from the time, and defaults to 'T'.\n",
            " |      timespec specifies what components of the time to include (allowed values are 'auto', 'hours', 'minutes', 'seconds', 'milliseconds', and 'microseconds').\n",
            " |  \n",
            " |  to_datetime64(...)\n",
            " |      Return a numpy.datetime64 object with 'ns' precision.\n",
            " |  \n",
            " |  to_numpy(...)\n",
            " |      Convert the Timestamp to a NumPy datetime64.\n",
            " |      \n",
            " |      .. versionadded:: 0.25.0\n",
            " |      \n",
            " |      This is an alias method for `Timestamp.to_datetime64()`. The dtype and\n",
            " |      copy parameters are available here only for compatibility. Their values\n",
            " |      will not affect the return value.\n",
            " |      \n",
            " |      Returns\n",
            " |      -------\n",
            " |      numpy.datetime64\n",
            " |      \n",
            " |      See Also\n",
            " |      --------\n",
            " |      DatetimeIndex.to_numpy : Similar method for DatetimeIndex.\n",
            " |      \n",
            " |      Examples\n",
            " |      --------\n",
            " |      >>> ts = pd.Timestamp('2020-03-14T15:32:52.192548651')\n",
            " |      >>> ts.to_numpy()\n",
            " |      numpy.datetime64('2020-03-14T15:32:52.192548651')\n",
            " |      \n",
            " |      Analogous for ``pd.NaT``:\n",
            " |      \n",
            " |      >>> pd.NaT.to_numpy()\n",
            " |      numpy.datetime64('NaT')\n",
            " |  \n",
            " |  ----------------------------------------------------------------------\n",
            " |  Data descriptors inherited from _NaT:\n",
            " |  \n",
            " |  asm8\n",
            " |  \n",
            " |  freq\n",
            " |  \n",
            " |  is_leap_year\n",
            " |  \n",
            " |  is_month_end\n",
            " |  \n",
            " |  is_month_start\n",
            " |  \n",
            " |  is_quarter_end\n",
            " |  \n",
            " |  is_quarter_start\n",
            " |  \n",
            " |  is_year_end\n",
            " |  \n",
            " |  is_year_start\n",
            " |  \n",
            " |  value\n",
            " |  \n",
            " |  ----------------------------------------------------------------------\n",
            " |  Data and other attributes inherited from _NaT:\n",
            " |  \n",
            " |  __array_priority__ = 100\n",
            " |  \n",
            " |  ----------------------------------------------------------------------\n",
            " |  Methods inherited from datetime.datetime:\n",
            " |  \n",
            " |  __getattribute__(self, name, /)\n",
            " |      Return getattr(self, name).\n",
            " |  \n",
            " |  ----------------------------------------------------------------------\n",
            " |  Class methods inherited from datetime.datetime:\n",
            " |  \n",
            " |  fromisoformat(...) from builtins.type\n",
            " |      string -> datetime from datetime.isoformat() output\n",
            " |  \n",
            " |  ----------------------------------------------------------------------\n",
            " |  Data descriptors inherited from datetime.datetime:\n",
            " |  \n",
            " |  fold\n",
            " |  \n",
            " |  tzinfo\n",
            " |  \n",
            " |  ----------------------------------------------------------------------\n",
            " |  Data and other attributes inherited from datetime.datetime:\n",
            " |  \n",
            " |  max = datetime.datetime(9999, 12, 31, 23, 59, 59, 999999)\n",
            " |  \n",
            " |  min = datetime.datetime(1, 1, 1, 0, 0)\n",
            " |  \n",
            " |  resolution = datetime.timedelta(microseconds=1)\n",
            " |  \n",
            " |  ----------------------------------------------------------------------\n",
            " |  Methods inherited from datetime.date:\n",
            " |  \n",
            " |  __format__(...)\n",
            " |      Formats self with strftime.\n",
            "\n"
          ]
        }
      ]
    },
    {
      "cell_type": "code",
      "source": [
        "# Speciying period explicitly\n",
        "pd.Period('2014-06', freq='D')"
      ],
      "metadata": {
        "colab": {
          "base_uri": "https://localhost:8080/"
        },
        "id": "6bUebuVEBsOf",
        "outputId": "1f71a2a7-5aec-4711-9e6b-ebf681f3060a"
      },
      "execution_count": null,
      "outputs": [
        {
          "output_type": "execute_result",
          "data": {
            "text/plain": [
              "Period('2014-06-01', 'D')"
            ]
          },
          "metadata": {},
          "execution_count": 7
        }
      ]
    },
    {
      "cell_type": "code",
      "source": [
        "#Use Time stamp as index\n",
        "dates = [pd.Timestamp('2014-06-01'),\n",
        "pd.Timestamp('2014-06-02'),\n",
        "pd.Timestamp('2014-06-03')]\n",
        "ts_data = pd.Series(np.random.randn(3), dates)\n",
        "# type(ts_data.index)"
      ],
      "metadata": {
        "id": "vMK_huCDCOTo"
      },
      "execution_count": null,
      "outputs": []
    },
    {
      "cell_type": "code",
      "source": [
        "# check Index\n",
        "ts_data.index"
      ],
      "metadata": {
        "colab": {
          "base_uri": "https://localhost:8080/"
        },
        "id": "XnRLBuYoDRKQ",
        "outputId": "1995ad48-f366-4eec-c200-8880a8f45505"
      },
      "execution_count": null,
      "outputs": [
        {
          "output_type": "execute_result",
          "data": {
            "text/plain": [
              "DatetimeIndex(['2014-06-01', '2014-06-02', '2014-06-03'], dtype='datetime64[ns]', freq=None)"
            ]
          },
          "metadata": {},
          "execution_count": 9
        }
      ]
    },
    {
      "cell_type": "code",
      "source": [
        "ts_data"
      ],
      "metadata": {
        "colab": {
          "base_uri": "https://localhost:8080/"
        },
        "id": "PSPJ0vSJDmHz",
        "outputId": "ca45933d-14e3-4e37-d2e2-7551141b5f65"
      },
      "execution_count": null,
      "outputs": [
        {
          "output_type": "execute_result",
          "data": {
            "text/plain": [
              "2014-06-01   -0.210926\n",
              "2014-06-02    0.025464\n",
              "2014-06-03    2.927676\n",
              "dtype: float64"
            ]
          },
          "metadata": {},
          "execution_count": 10
        }
      ]
    },
    {
      "cell_type": "markdown",
      "source": [
        "# Assignment Solution"
      ],
      "metadata": {
        "id": "krx_8ErAEA9p"
      }
    },
    {
      "cell_type": "code",
      "source": [
        "periods = [pd.Period('2014-01'), pd.Period('2014-02'),\n",
        "pd.Period('2014-03')]\n",
        "ts_data = pd.Series(np.random.randn(3), periods)\n",
        "type(ts_data.index)"
      ],
      "metadata": {
        "colab": {
          "base_uri": "https://localhost:8080/"
        },
        "id": "fQTGmuITEAeY",
        "outputId": "cc068f58-3c95-481f-c3ef-5b2f27ab8d61"
      },
      "execution_count": null,
      "outputs": [
        {
          "output_type": "execute_result",
          "data": {
            "text/plain": [
              "pandas.core.indexes.period.PeriodIndex"
            ]
          },
          "metadata": {},
          "execution_count": 11
        }
      ]
    },
    {
      "cell_type": "code",
      "source": [
        "ts_data"
      ],
      "metadata": {
        "colab": {
          "base_uri": "https://localhost:8080/"
        },
        "id": "sN3tcG3QDr6a",
        "outputId": "b2db7d91-d924-42d4-c6f3-11343eeae296"
      },
      "execution_count": null,
      "outputs": [
        {
          "output_type": "execute_result",
          "data": {
            "text/plain": [
              "2014-01   -0.714111\n",
              "2014-02    0.546372\n",
              "2014-03   -0.898589\n",
              "Freq: M, dtype: float64"
            ]
          },
          "metadata": {},
          "execution_count": 12
        }
      ]
    },
    {
      "cell_type": "code",
      "source": [
        "ts_data.index"
      ],
      "metadata": {
        "colab": {
          "base_uri": "https://localhost:8080/"
        },
        "id": "7P2pVrjkEW4E",
        "outputId": "7056cadb-6a14-4f64-f0bd-2762f35dc3ab"
      },
      "execution_count": null,
      "outputs": [
        {
          "output_type": "execute_result",
          "data": {
            "text/plain": [
              "PeriodIndex(['2014-01', '2014-02', '2014-03'], dtype='period[M]')"
            ]
          },
          "metadata": {},
          "execution_count": 13
        }
      ]
    },
    {
      "cell_type": "markdown",
      "source": [
        "# Converting to Time stamps"
      ],
      "metadata": {
        "id": "pFnKwe3YFOBe"
      }
    },
    {
      "cell_type": "code",
      "source": [
        "#Converting Series to Time stamps\n",
        "pd.to_datetime(pd.Series(['Jul 31, 2012', '2012-01-10', None]))"
      ],
      "metadata": {
        "colab": {
          "base_uri": "https://localhost:8080/"
        },
        "id": "MqcRScAlFNB9",
        "outputId": "2cc08b3b-f8c4-4ac0-fc64-e73011a99328"
      },
      "execution_count": null,
      "outputs": [
        {
          "output_type": "execute_result",
          "data": {
            "text/plain": [
              "0   2012-07-31\n",
              "1   2012-01-10\n",
              "2          NaT\n",
              "dtype: datetime64[ns]"
            ]
          },
          "metadata": {},
          "execution_count": 14
        }
      ]
    },
    {
      "cell_type": "code",
      "source": [
        "# Converting List to Time stamps\n",
        "pd.to_datetime(['2012/11/23', '2012.12.31'])"
      ],
      "metadata": {
        "colab": {
          "base_uri": "https://localhost:8080/"
        },
        "id": "o-Z3ZOj9HELS",
        "outputId": "c2b36cc3-a05a-440a-8efd-11e9fe645f3c"
      },
      "execution_count": null,
      "outputs": [
        {
          "output_type": "execute_result",
          "data": {
            "text/plain": [
              "DatetimeIndex(['2012-11-23', '2012-12-31'], dtype='datetime64[ns]', freq=None)"
            ]
          },
          "metadata": {},
          "execution_count": 15
        }
      ]
    },
    {
      "cell_type": "code",
      "source": [
        "# dayfirst=True\n",
        "pd.to_datetime(['04-01-2014 10:00'], dayfirst=True)"
      ],
      "metadata": {
        "colab": {
          "base_uri": "https://localhost:8080/"
        },
        "id": "Hi69miqeHcic",
        "outputId": "f7dcf930-2384-47de-ca0e-0f0d8bbaa1c7"
      },
      "execution_count": null,
      "outputs": [
        {
          "output_type": "execute_result",
          "data": {
            "text/plain": [
              "DatetimeIndex(['2014-01-04 10:00:00'], dtype='datetime64[ns]', freq=None)"
            ]
          },
          "metadata": {},
          "execution_count": 16
        }
      ]
    },
    {
      "cell_type": "code",
      "source": [
        "# dayfirst=True with multiple dates\n",
        "pd.to_datetime(['14-01-2014', '01-14-2012'], dayfirst=True)"
      ],
      "metadata": {
        "colab": {
          "base_uri": "https://localhost:8080/"
        },
        "id": "J7QmXY9OIk3m",
        "outputId": "61a8b2a7-0136-433f-ce7f-aeb2baf92849"
      },
      "execution_count": null,
      "outputs": [
        {
          "output_type": "execute_result",
          "data": {
            "text/plain": [
              "DatetimeIndex(['2014-01-14', '2012-01-14'], dtype='datetime64[ns]', freq=None)"
            ]
          },
          "metadata": {},
          "execution_count": 17
        }
      ]
    },
    {
      "cell_type": "markdown",
      "source": [
        "#Providing a Format Argument"
      ],
      "metadata": {
        "id": "l6jHReGwJodI"
      }
    },
    {
      "cell_type": "code",
      "source": [
        "pd.to_datetime('2018/11/12', format='%Y/%m/%d')"
      ],
      "metadata": {
        "colab": {
          "base_uri": "https://localhost:8080/"
        },
        "id": "BqF4i-C0Jn-B",
        "outputId": "f495cdc6-cfe4-4307-9ec1-8570a81f513f"
      },
      "execution_count": null,
      "outputs": [
        {
          "output_type": "execute_result",
          "data": {
            "text/plain": [
              "Timestamp('2018-11-12 00:00:00')"
            ]
          },
          "metadata": {},
          "execution_count": 18
        }
      ]
    },
    {
      "cell_type": "code",
      "source": [
        "# Define Hours and Mins\n",
        "pd.to_datetime('11-11-2018 00:00', format='%d-%m-%Y %H:%M')"
      ],
      "metadata": {
        "colab": {
          "base_uri": "https://localhost:8080/"
        },
        "id": "x1xNsYAeJ-OO",
        "outputId": "13397467-8904-4998-dea8-1bafcd19259e"
      },
      "execution_count": null,
      "outputs": [
        {
          "output_type": "execute_result",
          "data": {
            "text/plain": [
              "Timestamp('2018-11-11 00:00:00')"
            ]
          },
          "metadata": {},
          "execution_count": 19
        }
      ]
    }
  ]
}